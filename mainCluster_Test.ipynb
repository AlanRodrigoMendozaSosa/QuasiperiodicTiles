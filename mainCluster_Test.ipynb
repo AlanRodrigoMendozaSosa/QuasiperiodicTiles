{
 "cells": [
  {
   "cell_type": "code",
   "execution_count": 1,
   "id": "15e5f47f",
   "metadata": {},
   "outputs": [],
   "source": [
    "include(\"voronoi.jl\")\n",
    "include(\"Quasicrystals.jl\")\n",
    "using LinearAlgebra"
   ]
  },
  {
   "cell_type": "code",
   "execution_count": 4,
   "id": "2473b4c4",
   "metadata": {
    "scrolled": false
   },
   "outputs": [],
   "source": [
    "SL = 1e6;\n",
    "NSides = 7;\n",
    "Precision = BigFloat;\n",
    "α = 0.0;\n",
    "β = 40;\n",
    "APoint = arb_Point(SL);\n",
    "RadiusCluster = 120.0;\n",
    "\n",
    "MainClusterSites = main_Cluster(NSides, Precision, α, β, APoint, RadiusCluster);"
   ]
  },
  {
   "cell_type": "code",
   "execution_count": null,
   "id": "e538187e",
   "metadata": {},
   "outputs": [],
   "source": []
  }
 ],
 "metadata": {
  "@webio": {
   "lastCommId": null,
   "lastKernelId": null
  },
  "kernelspec": {
   "display_name": "Julia 12 Threads 1.8.0",
   "language": "julia",
   "name": "julia-12-threads-1.8"
  },
  "language_info": {
   "file_extension": ".jl",
   "mimetype": "application/julia",
   "name": "julia",
   "version": "1.8.0"
  }
 },
 "nbformat": 4,
 "nbformat_minor": 5
}
